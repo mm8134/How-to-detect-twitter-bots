{
 "cells": [
  {
   "cell_type": "markdown",
   "metadata": {},
   "source": [
    "    1. Data preprocessing"
   ]
  },
  {
   "cell_type": "code",
   "execution_count": 21,
   "metadata": {
    "collapsed": false,
    "scrolled": true
   },
   "outputs": [
    {
     "data": {
      "text/html": [
       "<div>\n",
       "<table border=\"1\" class=\"dataframe\">\n",
       "  <thead>\n",
       "    <tr style=\"text-align: right;\">\n",
       "      <th></th>\n",
       "      <th>id</th>\n",
       "      <th>id_str</th>\n",
       "      <th>screen_name</th>\n",
       "      <th>location</th>\n",
       "      <th>description</th>\n",
       "      <th>url</th>\n",
       "      <th>followers_count</th>\n",
       "      <th>friends_count</th>\n",
       "      <th>listedcount</th>\n",
       "      <th>created_at</th>\n",
       "      <th>favourites_count</th>\n",
       "      <th>verified</th>\n",
       "      <th>statuses_count</th>\n",
       "      <th>lang</th>\n",
       "      <th>status</th>\n",
       "      <th>default_profile</th>\n",
       "      <th>default_profile_image</th>\n",
       "      <th>has_extended_profile</th>\n",
       "      <th>name</th>\n",
       "      <th>bot</th>\n",
       "    </tr>\n",
       "  </thead>\n",
       "  <tbody>\n",
       "    <tr>\n",
       "      <th>0</th>\n",
       "      <td>3.982732e+09</td>\n",
       "      <td>3982731976</td>\n",
       "      <td>mcgucket_bot</td>\n",
       "      <td>NaN</td>\n",
       "      <td>A bot that tweets every line said by Fiddlefor...</td>\n",
       "      <td>NaN</td>\n",
       "      <td>1129</td>\n",
       "      <td>7</td>\n",
       "      <td>2</td>\n",
       "      <td>Sat Oct 17 22:35:31 +0000 2015</td>\n",
       "      <td>0</td>\n",
       "      <td>False</td>\n",
       "      <td>23557</td>\n",
       "      <td>en</td>\n",
       "      <td>{'retweeted': False, 'is_quote_status': False,...</td>\n",
       "      <td>False</td>\n",
       "      <td>False</td>\n",
       "      <td>False</td>\n",
       "      <td>McGucket bot</td>\n",
       "      <td>1</td>\n",
       "    </tr>\n",
       "    <tr>\n",
       "      <th>1</th>\n",
       "      <td>8.410000e+17</td>\n",
       "      <td>8.41E+17</td>\n",
       "      <td>BowieK66</td>\n",
       "      <td>NaN</td>\n",
       "      <td>NaN</td>\n",
       "      <td>NaN</td>\n",
       "      <td>0</td>\n",
       "      <td>22</td>\n",
       "      <td>0</td>\n",
       "      <td>13/03/2017 22:21</td>\n",
       "      <td>0</td>\n",
       "      <td>False</td>\n",
       "      <td>1</td>\n",
       "      <td>en</td>\n",
       "      <td>Status(_api=&lt;tweepy.api.API object at 0x101927...</td>\n",
       "      <td>True</td>\n",
       "      <td>True</td>\n",
       "      <td>False</td>\n",
       "      <td>MJ Kuhn</td>\n",
       "      <td>1</td>\n",
       "    </tr>\n",
       "    <tr>\n",
       "      <th>2</th>\n",
       "      <td>2.768375e+09</td>\n",
       "      <td>2768374981</td>\n",
       "      <td>ducknoteprice</td>\n",
       "      <td>NaN</td>\n",
       "      <td>NaN</td>\n",
       "      <td>NaN</td>\n",
       "      <td>3</td>\n",
       "      <td>0</td>\n",
       "      <td>3</td>\n",
       "      <td>Mon Aug 25 23:17:59 +0000 2014</td>\n",
       "      <td>0</td>\n",
       "      <td>False</td>\n",
       "      <td>1050</td>\n",
       "      <td>en</td>\n",
       "      <td>{'created_at': 'Fri Feb 26 17:01:15 +0000 2016...</td>\n",
       "      <td>True</td>\n",
       "      <td>False</td>\n",
       "      <td>False</td>\n",
       "      <td>duckNote</td>\n",
       "      <td>1</td>\n",
       "    </tr>\n",
       "    <tr>\n",
       "      <th>3</th>\n",
       "      <td>3.304189e+09</td>\n",
       "      <td>3304189373</td>\n",
       "      <td>robotrecipes</td>\n",
       "      <td>robot kitchen</td>\n",
       "      <td>tasty recipes for robot // not for human // a ...</td>\n",
       "      <td>http://t.co/PdagJGqVMR</td>\n",
       "      <td>505</td>\n",
       "      <td>13</td>\n",
       "      <td>49</td>\n",
       "      <td>Sat May 30 23:42:16 +0000 2015</td>\n",
       "      <td>0</td>\n",
       "      <td>False</td>\n",
       "      <td>5109</td>\n",
       "      <td>en</td>\n",
       "      <td>{u'contributors': None, u'truncated': False, u...</td>\n",
       "      <td>False</td>\n",
       "      <td>False</td>\n",
       "      <td>False</td>\n",
       "      <td>robot recipes</td>\n",
       "      <td>1</td>\n",
       "    </tr>\n",
       "    <tr>\n",
       "      <th>4</th>\n",
       "      <td>3.224289e+09</td>\n",
       "      <td>3224289024</td>\n",
       "      <td>everyumlaut</td>\n",
       "      <td>NaN</td>\n",
       "      <td>bot by @dbaker_h</td>\n",
       "      <td>NaN</td>\n",
       "      <td>15</td>\n",
       "      <td>0</td>\n",
       "      <td>11</td>\n",
       "      <td>Sat May 23 14:39:21 +0000 2015</td>\n",
       "      <td>0</td>\n",
       "      <td>False</td>\n",
       "      <td>31365</td>\n",
       "      <td>en-gb</td>\n",
       "      <td>{u'contributors': None, u'truncated': False, u...</td>\n",
       "      <td>True</td>\n",
       "      <td>False</td>\n",
       "      <td>False</td>\n",
       "      <td>��v��r�� �_ml�_�_���</td>\n",
       "      <td>1</td>\n",
       "    </tr>\n",
       "  </tbody>\n",
       "</table>\n",
       "</div>"
      ],
      "text/plain": [
       "             id      id_str    screen_name       location  \\\n",
       "0  3.982732e+09  3982731976   mcgucket_bot            NaN   \n",
       "1  8.410000e+17    8.41E+17       BowieK66            NaN   \n",
       "2  2.768375e+09  2768374981  ducknoteprice            NaN   \n",
       "3  3.304189e+09  3304189373   robotrecipes  robot kitchen   \n",
       "4  3.224289e+09  3224289024    everyumlaut            NaN   \n",
       "\n",
       "                                         description                     url  \\\n",
       "0  A bot that tweets every line said by Fiddlefor...                     NaN   \n",
       "1                                                NaN                     NaN   \n",
       "2                                                NaN                     NaN   \n",
       "3  tasty recipes for robot // not for human // a ...  http://t.co/PdagJGqVMR   \n",
       "4                                   bot by @dbaker_h                     NaN   \n",
       "\n",
       "   followers_count  friends_count  listedcount  \\\n",
       "0             1129              7            2   \n",
       "1                0             22            0   \n",
       "2                3              0            3   \n",
       "3              505             13           49   \n",
       "4               15              0           11   \n",
       "\n",
       "                       created_at  favourites_count verified  statuses_count  \\\n",
       "0  Sat Oct 17 22:35:31 +0000 2015                 0    False           23557   \n",
       "1                13/03/2017 22:21                 0    False               1   \n",
       "2  Mon Aug 25 23:17:59 +0000 2014                 0    False            1050   \n",
       "3  Sat May 30 23:42:16 +0000 2015                 0    False            5109   \n",
       "4  Sat May 23 14:39:21 +0000 2015                 0    False           31365   \n",
       "\n",
       "    lang                                             status default_profile  \\\n",
       "0     en  {'retweeted': False, 'is_quote_status': False,...           False   \n",
       "1     en  Status(_api=<tweepy.api.API object at 0x101927...            True   \n",
       "2     en  {'created_at': 'Fri Feb 26 17:01:15 +0000 2016...            True   \n",
       "3     en  {u'contributors': None, u'truncated': False, u...           False   \n",
       "4  en-gb  {u'contributors': None, u'truncated': False, u...            True   \n",
       "\n",
       "  default_profile_image has_extended_profile                  name  bot  \n",
       "0                 False                False          McGucket bot    1  \n",
       "1                  True                False               MJ Kuhn    1  \n",
       "2                 False                False              duckNote    1  \n",
       "3                 False                False         robot recipes    1  \n",
       "4                 False                False  ��v��r�� �_ml�_�_���    1  "
      ]
     },
     "execution_count": 21,
     "metadata": {},
     "output_type": "execute_result"
    }
   ],
   "source": [
    "import pandas as pd\n",
    "import numpy as np\n",
    "from sklearn import preprocessing\n",
    "\n",
    "#import data\n",
    "bots_data = pd.read_csv('bots_data.csv')\n",
    "nonbots_data = pd.read_csv('nonbots_data.csv')\n",
    "# concatenate bots and nonbots\n",
    "df = pd.concat([bots_data, nonbots_data])\n",
    "df.head(5)"
   ]
  },
  {
   "cell_type": "code",
   "execution_count": 22,
   "metadata": {
    "collapsed": false
   },
   "outputs": [
    {
     "data": {
      "text/html": [
       "<div>\n",
       "<table border=\"1\" class=\"dataframe\">\n",
       "  <thead>\n",
       "    <tr style=\"text-align: right;\">\n",
       "      <th></th>\n",
       "      <th>followers_count</th>\n",
       "      <th>friends_count</th>\n",
       "      <th>listedcount</th>\n",
       "      <th>favourites_count</th>\n",
       "      <th>verified</th>\n",
       "      <th>statuses_count</th>\n",
       "      <th>default_profile</th>\n",
       "      <th>default_profile_image</th>\n",
       "      <th>bot</th>\n",
       "    </tr>\n",
       "  </thead>\n",
       "  <tbody>\n",
       "    <tr>\n",
       "      <th>0</th>\n",
       "      <td>1129</td>\n",
       "      <td>7</td>\n",
       "      <td>2</td>\n",
       "      <td>0</td>\n",
       "      <td>False</td>\n",
       "      <td>23557</td>\n",
       "      <td>False</td>\n",
       "      <td>False</td>\n",
       "      <td>1</td>\n",
       "    </tr>\n",
       "    <tr>\n",
       "      <th>1</th>\n",
       "      <td>0</td>\n",
       "      <td>22</td>\n",
       "      <td>0</td>\n",
       "      <td>0</td>\n",
       "      <td>False</td>\n",
       "      <td>1</td>\n",
       "      <td>True</td>\n",
       "      <td>True</td>\n",
       "      <td>1</td>\n",
       "    </tr>\n",
       "    <tr>\n",
       "      <th>2</th>\n",
       "      <td>3</td>\n",
       "      <td>0</td>\n",
       "      <td>3</td>\n",
       "      <td>0</td>\n",
       "      <td>False</td>\n",
       "      <td>1050</td>\n",
       "      <td>True</td>\n",
       "      <td>False</td>\n",
       "      <td>1</td>\n",
       "    </tr>\n",
       "    <tr>\n",
       "      <th>3</th>\n",
       "      <td>505</td>\n",
       "      <td>13</td>\n",
       "      <td>49</td>\n",
       "      <td>0</td>\n",
       "      <td>False</td>\n",
       "      <td>5109</td>\n",
       "      <td>False</td>\n",
       "      <td>False</td>\n",
       "      <td>1</td>\n",
       "    </tr>\n",
       "    <tr>\n",
       "      <th>4</th>\n",
       "      <td>15</td>\n",
       "      <td>0</td>\n",
       "      <td>11</td>\n",
       "      <td>0</td>\n",
       "      <td>False</td>\n",
       "      <td>31365</td>\n",
       "      <td>True</td>\n",
       "      <td>False</td>\n",
       "      <td>1</td>\n",
       "    </tr>\n",
       "  </tbody>\n",
       "</table>\n",
       "</div>"
      ],
      "text/plain": [
       "   followers_count  friends_count  listedcount  favourites_count verified  \\\n",
       "0             1129              7            2                 0    False   \n",
       "1                0             22            0                 0    False   \n",
       "2                3              0            3                 0    False   \n",
       "3              505             13           49                 0    False   \n",
       "4               15              0           11                 0    False   \n",
       "\n",
       "   statuses_count default_profile default_profile_image  bot  \n",
       "0           23557           False                 False    1  \n",
       "1               1            True                  True    1  \n",
       "2            1050            True                 False    1  \n",
       "3            5109           False                 False    1  \n",
       "4           31365            True                 False    1  "
      ]
     },
     "execution_count": 22,
     "metadata": {},
     "output_type": "execute_result"
    }
   ],
   "source": [
    "# feature projection\n",
    "df = df[['followers_count','friends_count','listedcount','favourites_count','verified','statuses_count','default_profile','default_profile_image','bot']]\n",
    "df.head(5)"
   ]
  },
  {
   "cell_type": "code",
   "execution_count": 5,
   "metadata": {
    "collapsed": false
   },
   "outputs": [
    {
     "data": {
      "text/html": [
       "<div>\n",
       "<table border=\"1\" class=\"dataframe\">\n",
       "  <thead>\n",
       "    <tr style=\"text-align: right;\">\n",
       "      <th></th>\n",
       "      <th>followers_count</th>\n",
       "      <th>friends_count</th>\n",
       "      <th>listedcount</th>\n",
       "      <th>favourites_count</th>\n",
       "      <th>verified</th>\n",
       "      <th>statuses_count</th>\n",
       "      <th>default_profile</th>\n",
       "      <th>default_profile_image</th>\n",
       "      <th>bot</th>\n",
       "    </tr>\n",
       "  </thead>\n",
       "  <tbody>\n",
       "    <tr>\n",
       "      <th>0</th>\n",
       "      <td>1129</td>\n",
       "      <td>7</td>\n",
       "      <td>2</td>\n",
       "      <td>0</td>\n",
       "      <td>0</td>\n",
       "      <td>23557</td>\n",
       "      <td>0</td>\n",
       "      <td>0</td>\n",
       "      <td>1</td>\n",
       "    </tr>\n",
       "    <tr>\n",
       "      <th>1</th>\n",
       "      <td>0</td>\n",
       "      <td>22</td>\n",
       "      <td>0</td>\n",
       "      <td>0</td>\n",
       "      <td>0</td>\n",
       "      <td>1</td>\n",
       "      <td>1</td>\n",
       "      <td>1</td>\n",
       "      <td>1</td>\n",
       "    </tr>\n",
       "    <tr>\n",
       "      <th>2</th>\n",
       "      <td>3</td>\n",
       "      <td>0</td>\n",
       "      <td>3</td>\n",
       "      <td>0</td>\n",
       "      <td>0</td>\n",
       "      <td>1050</td>\n",
       "      <td>1</td>\n",
       "      <td>0</td>\n",
       "      <td>1</td>\n",
       "    </tr>\n",
       "    <tr>\n",
       "      <th>3</th>\n",
       "      <td>505</td>\n",
       "      <td>13</td>\n",
       "      <td>49</td>\n",
       "      <td>0</td>\n",
       "      <td>0</td>\n",
       "      <td>5109</td>\n",
       "      <td>0</td>\n",
       "      <td>0</td>\n",
       "      <td>1</td>\n",
       "    </tr>\n",
       "    <tr>\n",
       "      <th>4</th>\n",
       "      <td>15</td>\n",
       "      <td>0</td>\n",
       "      <td>11</td>\n",
       "      <td>0</td>\n",
       "      <td>0</td>\n",
       "      <td>31365</td>\n",
       "      <td>1</td>\n",
       "      <td>0</td>\n",
       "      <td>1</td>\n",
       "    </tr>\n",
       "  </tbody>\n",
       "</table>\n",
       "</div>"
      ],
      "text/plain": [
       "   followers_count  friends_count  listedcount  favourites_count  verified  \\\n",
       "0             1129              7            2                 0         0   \n",
       "1                0             22            0                 0         0   \n",
       "2                3              0            3                 0         0   \n",
       "3              505             13           49                 0         0   \n",
       "4               15              0           11                 0         0   \n",
       "\n",
       "   statuses_count  default_profile  default_profile_image  bot  \n",
       "0           23557                0                      0    1  \n",
       "1               1                1                      1    1  \n",
       "2            1050                1                      0    1  \n",
       "3            5109                0                      0    1  \n",
       "4           31365                1                      0    1  "
      ]
     },
     "execution_count": 5,
     "metadata": {},
     "output_type": "execute_result"
    }
   ],
   "source": [
    "#convert boolean features to integer\n",
    "df['verified'] = df['verified'].astype(int)\n",
    "df['default_profile'] = df['default_profile'].astype(int)\n",
    "df['default_profile_image'] = df['default_profile_image'].astype(int)\n",
    "df.head(5)"
   ]
  },
  {
   "cell_type": "code",
   "execution_count": 6,
   "metadata": {
    "collapsed": false
   },
   "outputs": [
    {
     "name": "stderr",
     "output_type": "stream",
     "text": [
      "/Users/mengmeng/anaconda/lib/python2.7/site-packages/sklearn/utils/validation.py:429: DataConversionWarning: Data with input dtype int64 was converted to float64 by MinMaxScaler.\n",
      "  warnings.warn(msg, _DataConversionWarning)\n"
     ]
    },
    {
     "data": {
      "text/html": [
       "<div>\n",
       "<table border=\"1\" class=\"dataframe\">\n",
       "  <thead>\n",
       "    <tr style=\"text-align: right;\">\n",
       "      <th></th>\n",
       "      <th>0</th>\n",
       "      <th>1</th>\n",
       "      <th>2</th>\n",
       "      <th>3</th>\n",
       "      <th>4</th>\n",
       "      <th>5</th>\n",
       "      <th>6</th>\n",
       "      <th>7</th>\n",
       "      <th>8</th>\n",
       "    </tr>\n",
       "  </thead>\n",
       "  <tbody>\n",
       "    <tr>\n",
       "      <th>0</th>\n",
       "      <td>1.172116e-05</td>\n",
       "      <td>0.000007</td>\n",
       "      <td>0.000009</td>\n",
       "      <td>0.0</td>\n",
       "      <td>0.0</td>\n",
       "      <td>3.432282e-03</td>\n",
       "      <td>0.0</td>\n",
       "      <td>0.0</td>\n",
       "      <td>1.0</td>\n",
       "    </tr>\n",
       "    <tr>\n",
       "      <th>1</th>\n",
       "      <td>0.000000e+00</td>\n",
       "      <td>0.000022</td>\n",
       "      <td>0.000000</td>\n",
       "      <td>0.0</td>\n",
       "      <td>0.0</td>\n",
       "      <td>1.457012e-07</td>\n",
       "      <td>1.0</td>\n",
       "      <td>1.0</td>\n",
       "      <td>1.0</td>\n",
       "    </tr>\n",
       "    <tr>\n",
       "      <th>2</th>\n",
       "      <td>3.114567e-08</td>\n",
       "      <td>0.000000</td>\n",
       "      <td>0.000013</td>\n",
       "      <td>0.0</td>\n",
       "      <td>0.0</td>\n",
       "      <td>1.529862e-04</td>\n",
       "      <td>1.0</td>\n",
       "      <td>0.0</td>\n",
       "      <td>1.0</td>\n",
       "    </tr>\n",
       "    <tr>\n",
       "      <th>3</th>\n",
       "      <td>5.242855e-06</td>\n",
       "      <td>0.000013</td>\n",
       "      <td>0.000220</td>\n",
       "      <td>0.0</td>\n",
       "      <td>0.0</td>\n",
       "      <td>7.443873e-04</td>\n",
       "      <td>0.0</td>\n",
       "      <td>0.0</td>\n",
       "      <td>1.0</td>\n",
       "    </tr>\n",
       "    <tr>\n",
       "      <th>4</th>\n",
       "      <td>1.557284e-07</td>\n",
       "      <td>0.000000</td>\n",
       "      <td>0.000049</td>\n",
       "      <td>0.0</td>\n",
       "      <td>0.0</td>\n",
       "      <td>4.569917e-03</td>\n",
       "      <td>1.0</td>\n",
       "      <td>0.0</td>\n",
       "      <td>1.0</td>\n",
       "    </tr>\n",
       "  </tbody>\n",
       "</table>\n",
       "</div>"
      ],
      "text/plain": [
       "              0         1         2    3    4             5    6    7    8\n",
       "0  1.172116e-05  0.000007  0.000009  0.0  0.0  3.432282e-03  0.0  0.0  1.0\n",
       "1  0.000000e+00  0.000022  0.000000  0.0  0.0  1.457012e-07  1.0  1.0  1.0\n",
       "2  3.114567e-08  0.000000  0.000013  0.0  0.0  1.529862e-04  1.0  0.0  1.0\n",
       "3  5.242855e-06  0.000013  0.000220  0.0  0.0  7.443873e-04  0.0  0.0  1.0\n",
       "4  1.557284e-07  0.000000  0.000049  0.0  0.0  4.569917e-03  1.0  0.0  1.0"
      ]
     },
     "execution_count": 6,
     "metadata": {},
     "output_type": "execute_result"
    }
   ],
   "source": [
    "#data normalization(to [0:1])\n",
    "x = df.values \n",
    "min_max_scaler = preprocessing.MinMaxScaler()\n",
    "x_scaled = min_max_scaler.fit_transform(x)\n",
    "df = pd.DataFrame(x_scaled)\n",
    "df.head(5)"
   ]
  },
  {
   "cell_type": "markdown",
   "metadata": {},
   "source": [
    "    2. Train knn, svm classifiers and evaluate them using k-fold cross-validation"
   ]
  },
  {
   "cell_type": "code",
   "execution_count": 8,
   "metadata": {
    "collapsed": false,
    "scrolled": true
   },
   "outputs": [
    {
     "name": "stdout",
     "output_type": "stream",
     "text": [
      "knn:\n",
      "Accuracy: 0.853945787956\n",
      "Precision: 0.85063808771\n",
      "Recall: 0.838860329624\n",
      "F1-score: 0.844016713356\n",
      "AUC: 0.852166525999\n",
      "svm:\n",
      "Accuracy: 0.721322469571\n",
      "Precision: 0.730001207634\n",
      "Recall: 0.650399331487\n",
      "F1-score: 0.686672796211\n",
      "AUC: 0.716134546965\n"
     ]
    }
   ],
   "source": [
    "from sklearn.model_selection import KFold\n",
    "from sklearn.model_selection import StratifiedKFold\n",
    "from sklearn.neighbors import KNeighborsClassifier\n",
    "from sklearn import svm\n",
    "from sklearn.metrics import accuracy_score\n",
    "from sklearn.metrics import precision_recall_fscore_support\n",
    "from sklearn.metrics import f1_score\n",
    "from sklearn.metrics import roc_auc_score\n",
    "\n",
    "\n",
    "kf = KFold(n_splits=10, shuffle=True)\n",
    "X = df[df.columns[0:8]]\n",
    "y = df[df.columns[8]]\n",
    "# for neighbor_number in range(3,20):\n",
    "accuracy_knn = 0\n",
    "accuracy_svm = 0\n",
    "precision_knn = 0\n",
    "precision_svm = 0\n",
    "recall_knn = 0\n",
    "recall_svm = 0\n",
    "f1score_knn = 0\n",
    "f1score_svm = 0\n",
    "auc_knn = 0\n",
    "auc_svm = 0\n",
    "for train_index, test_index in kf.split(X,y):\n",
    "    X_train, X_test = X.ix[train_index,:], X.ix[test_index,:]\n",
    "    y_train, y_test = y[train_index], y[test_index]\n",
    "\n",
    "    knn_classifier = KNeighborsClassifier(n_neighbors=10)\n",
    "    knn_classifier.fit(X_train, y_train)\n",
    "    pred_knn = knn_classifier.predict(X_test)\n",
    "\n",
    "    svm_classifier = svm.SVC()\n",
    "    svm_classifier.fit(X_train, y_train)\n",
    "    pred_svm = svm_classifier.predict(X_test)\n",
    "\n",
    "    accuracy_knn = accuracy_knn + np.mean(pred_knn == y_test)\n",
    "    accuracy_svm = accuracy_svm + np.mean(pred_svm == y_test)\n",
    "\n",
    "    precision, recall, fscore, support = precision_recall_fscore_support(y_test, pred_knn, average = 'binary', pos_label = 1)\n",
    "    precision_knn = precision_knn + precision\n",
    "    recall_knn = recall_knn + recall\n",
    "    precision, recall, fscore, support = precision_recall_fscore_support(y_test, pred_svm, average = 'binary', pos_label = 1)\n",
    "    precision_svm = precision_svm + precision\n",
    "    recall_svm = recall_svm + recall\n",
    "\n",
    "    f1score_knn = f1score_knn + f1_score(y_test, pred_knn)\n",
    "    auc_knn = auc_knn + roc_auc_score(y_test, pred_knn)\n",
    "    f1score_svm = f1score_svm + f1_score(y_test, pred_svm)\n",
    "    auc_svm = auc_svm + roc_auc_score(y_test, pred_svm)\n",
    "    \n",
    "print('knn:')\n",
    "# print('neighbor: {}'.format(neighbor_number))\n",
    "print('Accuracy: {}'.format(accuracy_knn / 10))\n",
    "print('Precision: {}'.format(precision_knn / 10))\n",
    "print('Recall: {}'.format(recall_knn / 10))\n",
    "print('F1-score: {}'.format(f1score_knn / 10))\n",
    "print('AUC: {}'.format(auc_knn / 10))\n",
    "\n",
    "print('svm:')\n",
    "print('Accuracy: {}'.format(accuracy_svm / 10))\n",
    "print('Precision: {}'.format(precision_svm / 10))\n",
    "print('Recall: {}'.format(recall_svm / 10))\n",
    "print('F1-score: {}'.format(f1score_svm / 10))\n",
    "print('AUC: {}'.format(auc_svm / 10))"
   ]
  },
  {
   "cell_type": "code",
   "execution_count": 20,
   "metadata": {
    "collapsed": false
   },
   "outputs": [
    {
     "data": {
      "image/png": "[encoded data removed]",
      "text/plain": [
       "<matplotlib.figure.Figure at 0x114713d50>"
      ]
     },
     "metadata": {},
     "output_type": "display_data"
    },
    {
     "data": {
      "image/png": "[encoded data removed]",
      "text/plain": [
       "<matplotlib.figure.Figure at 0x114713c50>"
      ]
     },
     "metadata": {},
     "output_type": "display_data"
    },
    {
     "data": {
      "image/png": "[encoded data removed]",
      "text/plain": [
       "<matplotlib.figure.Figure at 0x118609a90>"
      ]
     },
     "metadata": {},
     "output_type": "display_data"
    },
    {
     "data": {
      "image/png": "[encoded data removed]",
      "text/plain": [
       "<matplotlib.figure.Figure at 0x1187e3110>"
      ]
     },
     "metadata": {},
     "output_type": "display_data"
    },
    {
     "data": {
      "text/plain": [
       "<matplotlib.figure.Figure at 0x1188d4e50>"
      ]
     },
     "metadata": {},
     "output_type": "display_data"
    },
    {
     "data": {
      "image/png": "[encoded data removed]",
      "text/plain": [
       "<matplotlib.figure.Figure at 0x1187e3250>"
      ]
     },
     "metadata": {},
     "output_type": "display_data"
    },
    {
     "data": {
      "text/plain": [
       "<matplotlib.figure.Figure at 0x1189d1210>"
      ]
     },
     "metadata": {},
     "output_type": "display_data"
    },
    {
     "data": {
      "image/png": "[encoded data removed]",
      "text/plain": [
       "<matplotlib.figure.Figure at 0x1188d4e90>"
      ]
     },
     "metadata": {},
     "output_type": "display_data"
    },
    {
     "data": {
      "text/plain": [
       "<matplotlib.figure.Figure at 0x118a5cad0>"
      ]
     },
     "metadata": {},
     "output_type": "display_data"
    },
    {
     "data": {
      "image/png": "[encoded data removed]",
      "text/plain": [
       "<matplotlib.figure.Figure at 0x1189d18d0>"
      ]
     },
     "metadata": {},
     "output_type": "display_data"
    }
   ],
   "source": [
    "import matplotlib.pyplot as plt\n",
    "plt.figure();\n",
    "d = {'knn' : pd.Series([accuracy_knn / 10, precision_knn / 10, recall_knn / 10, f1score_knn / 10, auc_knn / 10], index=['Accuracy', 'Precision', 'Recall', 'F1-score', 'AUC'])\n",
    "    ,'svm' : pd.Series([accuracy_svm / 10, precision_svm / 10, recall_svm / 10, f1score_svm / 10, auc_svm / 10], index=['Accuracy', 'Precision', 'Recall', 'F1-score', 'AUC'])\n",
    "    }\n",
    "df2 = pd.DataFrame(d, columns=['knn', 'svm'])\n",
    "df2.plot.bar()\n",
    "plt.show()"
   ]
  },
  {
   "cell_type": "code",
   "execution_count": null,
   "metadata": {
    "collapsed": true
   },
   "outputs": [],
   "source": []
  }
 ],
 "metadata": {
  "kernelspec": {
   "display_name": "Python 2",
   "language": "python",
   "name": "python2"
  },
  "language_info": {
   "codemirror_mode": {
    "name": "ipython",
    "version": 2
   },
   "file_extension": ".py",
   "mimetype": "text/x-python",
   "name": "python",
   "nbconvert_exporter": "python",
   "pygments_lexer": "ipython2",
   "version": "2.7.13"
  }
 },
 "nbformat": 4,
 "nbformat_minor": 2
}
